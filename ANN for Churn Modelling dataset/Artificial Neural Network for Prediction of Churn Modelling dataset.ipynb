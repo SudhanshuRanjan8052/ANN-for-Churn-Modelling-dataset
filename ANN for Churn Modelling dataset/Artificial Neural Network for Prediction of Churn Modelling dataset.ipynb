{
 "cells": [
  {
   "cell_type": "markdown",
   "id": "0eba6a8e",
   "metadata": {},
   "source": [
    "# Artificial Neural Network For Prediction of whether the people leave the bank or not on the basis of churn modelling dataset"
   ]
  },
  {
   "cell_type": "markdown",
   "id": "77e46904",
   "metadata": {},
   "source": [
    "# Importing Libraries"
   ]
  },
  {
   "cell_type": "code",
   "execution_count": 2,
   "id": "d06ad606",
   "metadata": {},
   "outputs": [],
   "source": [
    "import pandas as pd\n",
    "import numpy as np\n",
    "import tensorflow as tf"
   ]
  },
  {
   "cell_type": "code",
   "execution_count": 3,
   "id": "ebbfdc5f",
   "metadata": {},
   "outputs": [
    {
     "data": {
      "text/plain": [
       "'2.6.0'"
      ]
     },
     "execution_count": 3,
     "metadata": {},
     "output_type": "execute_result"
    }
   ],
   "source": [
    "tf.__version__"
   ]
  },
  {
   "cell_type": "markdown",
   "id": "77800eca",
   "metadata": {},
   "source": [
    "# Data Preprocessing"
   ]
  },
  {
   "cell_type": "code",
   "execution_count": 4,
   "id": "3d709184",
   "metadata": {},
   "outputs": [],
   "source": [
    "dataset = pd.read_csv(\"Churn_modelling.csv\")"
   ]
  },
  {
   "cell_type": "code",
   "execution_count": 5,
   "id": "0d21f93b",
   "metadata": {},
   "outputs": [],
   "source": [
    "x= dataset.iloc[:,3:-1].values #independent variable matrix or feature matrix\n",
    "y= dataset.iloc[:,-1].values #dependent variable matrix or actual outcome matrix"
   ]
  },
  {
   "cell_type": "code",
   "execution_count": 6,
   "id": "2e8388cc",
   "metadata": {},
   "outputs": [
    {
     "name": "stdout",
     "output_type": "stream",
     "text": [
      "[[619 'France' 'Female' ... 1 1 101348.88]\n",
      " [608 'Spain' 'Female' ... 0 1 112542.58]\n",
      " [502 'France' 'Female' ... 1 0 113931.57]\n",
      " ...\n",
      " [709 'France' 'Female' ... 0 1 42085.58]\n",
      " [772 'Germany' 'Male' ... 1 0 92888.52]\n",
      " [792 'France' 'Female' ... 1 0 38190.78]]\n"
     ]
    }
   ],
   "source": [
    "print(x)"
   ]
  },
  {
   "cell_type": "code",
   "execution_count": 7,
   "id": "b6a6c8d1",
   "metadata": {},
   "outputs": [
    {
     "name": "stdout",
     "output_type": "stream",
     "text": [
      "[1 0 1 ... 1 1 0]\n"
     ]
    }
   ],
   "source": [
    "print(y)"
   ]
  },
  {
   "cell_type": "markdown",
   "id": "95aaeef5",
   "metadata": {},
   "source": [
    "# Encoding Categorical Data"
   ]
  },
  {
   "cell_type": "markdown",
   "id": "2abbc969",
   "metadata": {},
   "source": [
    "Encoding \"Gender\" Column using Label Enncoding"
   ]
  },
  {
   "cell_type": "code",
   "execution_count": 8,
   "id": "dfefb9b3",
   "metadata": {},
   "outputs": [],
   "source": [
    "from sklearn.preprocessing import LabelEncoder\n",
    "le = LabelEncoder() #making object of label encoder\n",
    "x[:,2]=le.fit_transform(x[:,2]) #providing column on which we want to apply it"
   ]
  },
  {
   "cell_type": "code",
   "execution_count": 9,
   "id": "5fcbe5aa",
   "metadata": {},
   "outputs": [
    {
     "name": "stdout",
     "output_type": "stream",
     "text": [
      "[[619 'France' 0 ... 1 1 101348.88]\n",
      " [608 'Spain' 0 ... 0 1 112542.58]\n",
      " [502 'France' 0 ... 1 0 113931.57]\n",
      " ...\n",
      " [709 'France' 0 ... 0 1 42085.58]\n",
      " [772 'Germany' 1 ... 1 0 92888.52]\n",
      " [792 'France' 0 ... 1 0 38190.78]]\n"
     ]
    }
   ],
   "source": [
    "print(x)"
   ]
  },
  {
   "cell_type": "markdown",
   "id": "b04a5ba5",
   "metadata": {},
   "source": [
    "Encoding \"Country\" Column using One Hot Encoding"
   ]
  },
  {
   "cell_type": "code",
   "execution_count": 10,
   "id": "c2811362",
   "metadata": {},
   "outputs": [],
   "source": [
    "from sklearn.preprocessing import OneHotEncoder\n",
    "from sklearn.compose import ColumnTransformer\n",
    "ct = ColumnTransformer([(\"Encoder\",OneHotEncoder(),[1])],remainder=\"passthrough\") #making an object of columntransformer\n",
    "x = np.array(ct.fit_transform(x)) #appliying fit and transform on desired column"
   ]
  },
  {
   "cell_type": "code",
   "execution_count": 11,
   "id": "7d916c65",
   "metadata": {},
   "outputs": [
    {
     "name": "stdout",
     "output_type": "stream",
     "text": [
      "[[1.0 0.0 0.0 ... 1 1 101348.88]\n",
      " [0.0 0.0 1.0 ... 0 1 112542.58]\n",
      " [1.0 0.0 0.0 ... 1 0 113931.57]\n",
      " ...\n",
      " [1.0 0.0 0.0 ... 0 1 42085.58]\n",
      " [0.0 1.0 0.0 ... 1 0 92888.52]\n",
      " [1.0 0.0 0.0 ... 1 0 38190.78]]\n"
     ]
    }
   ],
   "source": [
    "print(x)"
   ]
  },
  {
   "cell_type": "markdown",
   "id": "67909f16",
   "metadata": {},
   "source": [
    "# Splitting Dataset into Training set and Set set"
   ]
  },
  {
   "cell_type": "code",
   "execution_count": 12,
   "id": "1bad6559",
   "metadata": {},
   "outputs": [],
   "source": [
    "from sklearn.model_selection import train_test_split\n",
    "x_train,x_test,y_train,y_test = train_test_split(x, y, test_size=0.2, random_state=0)"
   ]
  },
  {
   "cell_type": "markdown",
   "id": "0066af3b",
   "metadata": {},
   "source": [
    "# Features Scaling"
   ]
  },
  {
   "cell_type": "code",
   "execution_count": 13,
   "id": "6008ad5c",
   "metadata": {},
   "outputs": [],
   "source": [
    "from sklearn.preprocessing import StandardScaler\n",
    "sc = StandardScaler()\n",
    "x_train=sc.fit_transform(x_train)\n",
    "x_test=sc.transform(x_test)"
   ]
  },
  {
   "cell_type": "markdown",
   "id": "d4bdd3d1",
   "metadata": {},
   "source": [
    "# Building ANN Network"
   ]
  },
  {
   "cell_type": "code",
   "execution_count": 14,
   "id": "a541647d",
   "metadata": {},
   "outputs": [],
   "source": [
    "#Intializing ANN\n",
    "ann = tf.keras.models.Sequential()"
   ]
  },
  {
   "cell_type": "code",
   "execution_count": 15,
   "id": "07129f31",
   "metadata": {},
   "outputs": [],
   "source": [
    "#Adding input layers and hidden layer\n",
    "ann.add(tf.keras.layers.Dense(units=7,activation=\"relu\"))"
   ]
  },
  {
   "cell_type": "code",
   "execution_count": 17,
   "id": "d7564149",
   "metadata": {},
   "outputs": [],
   "source": [
    "#Adding another hidden layer\n",
    "ann.add(tf.keras.layers.Dense(units=7,activation=\"relu\"))"
   ]
  },
  {
   "cell_type": "code",
   "execution_count": 18,
   "id": "59e8d92e",
   "metadata": {},
   "outputs": [],
   "source": [
    "#Adding output layer\n",
    "ann.add(tf.keras.layers.Dense(units=1,activation=\"sigmoid\"))"
   ]
  },
  {
   "cell_type": "markdown",
   "id": "4a0979a7",
   "metadata": {},
   "source": [
    "# Training ANN network"
   ]
  },
  {
   "cell_type": "code",
   "execution_count": 19,
   "id": "73ea5737",
   "metadata": {},
   "outputs": [],
   "source": [
    "#compiling the neural network\n",
    "ann.compile(optimizer=\"adam\",loss=\"binary_crossentropy\",metrics=['accuracy'])"
   ]
  },
  {
   "cell_type": "code",
   "execution_count": 20,
   "id": "3eca9b76",
   "metadata": {},
   "outputs": [
    {
     "name": "stdout",
     "output_type": "stream",
     "text": [
      "Epoch 1/200\n",
      "250/250 [==============================] - 2s 1ms/step - loss: 0.5292 - accuracy: 0.7960\n",
      "Epoch 2/200\n",
      "250/250 [==============================] - 0s 953us/step - loss: 0.4632 - accuracy: 0.7960\n",
      "Epoch 3/200\n",
      "250/250 [==============================] - 0s 870us/step - loss: 0.4313 - accuracy: 0.7956\n",
      "Epoch 4/200\n",
      "250/250 [==============================] - 0s 957us/step - loss: 0.4149 - accuracy: 0.8033\n",
      "Epoch 5/200\n",
      "250/250 [==============================] - 0s 871us/step - loss: 0.4047 - accuracy: 0.8050\n",
      "Epoch 6/200\n",
      "250/250 [==============================] - 0s 837us/step - loss: 0.3977 - accuracy: 0.8104\n",
      "Epoch 7/200\n",
      "250/250 [==============================] - 0s 928us/step - loss: 0.3922 - accuracy: 0.8185\n",
      "Epoch 8/200\n",
      "250/250 [==============================] - 0s 816us/step - loss: 0.3878 - accuracy: 0.8202\n",
      "Epoch 9/200\n",
      "250/250 [==============================] - 0s 789us/step - loss: 0.3844 - accuracy: 0.8264\n",
      "Epoch 10/200\n",
      "250/250 [==============================] - 0s 838us/step - loss: 0.3812 - accuracy: 0.8307\n",
      "Epoch 11/200\n",
      "250/250 [==============================] - 0s 972us/step - loss: 0.3781 - accuracy: 0.8325\n",
      "Epoch 12/200\n",
      "250/250 [==============================] - 0s 838us/step - loss: 0.3757 - accuracy: 0.8361\n",
      "Epoch 13/200\n",
      "250/250 [==============================] - 0s 870us/step - loss: 0.3732 - accuracy: 0.8372\n",
      "Epoch 14/200\n",
      "250/250 [==============================] - 0s 919us/step - loss: 0.3712 - accuracy: 0.8401\n",
      "Epoch 15/200\n",
      "250/250 [==============================] - 0s 853us/step - loss: 0.3693 - accuracy: 0.8440\n",
      "Epoch 16/200\n",
      "250/250 [==============================] - 0s 981us/step - loss: 0.3678 - accuracy: 0.8447\n",
      "Epoch 17/200\n",
      "250/250 [==============================] - 0s 832us/step - loss: 0.3672 - accuracy: 0.8446\n",
      "Epoch 18/200\n",
      "250/250 [==============================] - 0s 1ms/step - loss: 0.3656 - accuracy: 0.8455\n",
      "Epoch 19/200\n",
      "250/250 [==============================] - 0s 1ms/step - loss: 0.3645 - accuracy: 0.8456\n",
      "Epoch 20/200\n",
      "250/250 [==============================] - 0s 2ms/step - loss: 0.3645 - accuracy: 0.8446\n",
      "Epoch 21/200\n",
      "250/250 [==============================] - 0s 932us/step - loss: 0.3636 - accuracy: 0.8461\n",
      "Epoch 22/200\n",
      "250/250 [==============================] - 0s 1ms/step - loss: 0.3631 - accuracy: 0.8461\n",
      "Epoch 23/200\n",
      "250/250 [==============================] - 0s 1ms/step - loss: 0.3623 - accuracy: 0.8462\n",
      "Epoch 24/200\n",
      "250/250 [==============================] - 0s 1ms/step - loss: 0.3620 - accuracy: 0.8468\n",
      "Epoch 25/200\n",
      "250/250 [==============================] - 0s 2ms/step - loss: 0.3616 - accuracy: 0.8475\n",
      "Epoch 26/200\n",
      "250/250 [==============================] - 0s 1ms/step - loss: 0.3611 - accuracy: 0.8471\n",
      "Epoch 27/200\n",
      "250/250 [==============================] - 0s 976us/step - loss: 0.3607 - accuracy: 0.8466\n",
      "Epoch 28/200\n",
      "250/250 [==============================] - 0s 903us/step - loss: 0.3602 - accuracy: 0.8484\n",
      "Epoch 29/200\n",
      "250/250 [==============================] - 0s 864us/step - loss: 0.3597 - accuracy: 0.8501\n",
      "Epoch 30/200\n",
      "250/250 [==============================] - 0s 856us/step - loss: 0.3591 - accuracy: 0.8510\n",
      "Epoch 31/200\n",
      "250/250 [==============================] - 0s 984us/step - loss: 0.3588 - accuracy: 0.8504\n",
      "Epoch 32/200\n",
      "250/250 [==============================] - 0s 921us/step - loss: 0.3578 - accuracy: 0.8524\n",
      "Epoch 33/200\n",
      "250/250 [==============================] - 0s 1ms/step - loss: 0.3576 - accuracy: 0.8494\n",
      "Epoch 34/200\n",
      "250/250 [==============================] - 0s 1ms/step - loss: 0.3569 - accuracy: 0.8522\n",
      "Epoch 35/200\n",
      "250/250 [==============================] - 0s 991us/step - loss: 0.3563 - accuracy: 0.8524\n",
      "Epoch 36/200\n",
      "250/250 [==============================] - 0s 868us/step - loss: 0.3560 - accuracy: 0.8522\n",
      "Epoch 37/200\n",
      "250/250 [==============================] - 0s 1ms/step - loss: 0.3545 - accuracy: 0.8549\n",
      "Epoch 38/200\n",
      "250/250 [==============================] - 0s 1ms/step - loss: 0.3543 - accuracy: 0.8537\n",
      "Epoch 39/200\n",
      "250/250 [==============================] - 0s 1ms/step - loss: 0.3533 - accuracy: 0.8540\n",
      "Epoch 40/200\n",
      "250/250 [==============================] - 0s 978us/step - loss: 0.3528 - accuracy: 0.8560\n",
      "Epoch 41/200\n",
      "250/250 [==============================] - 0s 1ms/step - loss: 0.3520 - accuracy: 0.8558\n",
      "Epoch 42/200\n",
      "250/250 [==============================] - 0s 964us/step - loss: 0.3513 - accuracy: 0.8550\n",
      "Epoch 43/200\n",
      "250/250 [==============================] - 0s 1ms/step - loss: 0.3500 - accuracy: 0.8566\n",
      "Epoch 44/200\n",
      "250/250 [==============================] - 0s 1ms/step - loss: 0.3491 - accuracy: 0.8562\n",
      "Epoch 45/200\n",
      "250/250 [==============================] - 0s 943us/step - loss: 0.3488 - accuracy: 0.85740s - loss: 0.3229 - accuracy\n",
      "Epoch 46/200\n",
      "250/250 [==============================] - 0s 1ms/step - loss: 0.3480 - accuracy: 0.8580\n",
      "Epoch 47/200\n",
      "250/250 [==============================] - 0s 953us/step - loss: 0.3473 - accuracy: 0.8574\n",
      "Epoch 48/200\n",
      "250/250 [==============================] - 0s 1ms/step - loss: 0.3465 - accuracy: 0.8586\n",
      "Epoch 49/200\n",
      "250/250 [==============================] - 0s 1ms/step - loss: 0.3454 - accuracy: 0.8561\n",
      "Epoch 50/200\n",
      "250/250 [==============================] - 0s 987us/step - loss: 0.3455 - accuracy: 0.8577\n",
      "Epoch 51/200\n",
      "250/250 [==============================] - 0s 1ms/step - loss: 0.3448 - accuracy: 0.8593\n",
      "Epoch 52/200\n",
      "250/250 [==============================] - 0s 894us/step - loss: 0.3441 - accuracy: 0.8580\n",
      "Epoch 53/200\n",
      "250/250 [==============================] - 0s 914us/step - loss: 0.3435 - accuracy: 0.8599\n",
      "Epoch 54/200\n",
      "250/250 [==============================] - 0s 908us/step - loss: 0.3427 - accuracy: 0.8604\n",
      "Epoch 55/200\n",
      "250/250 [==============================] - 0s 824us/step - loss: 0.3419 - accuracy: 0.8609\n",
      "Epoch 56/200\n",
      "250/250 [==============================] - 0s 913us/step - loss: 0.3415 - accuracy: 0.8610\n",
      "Epoch 57/200\n",
      "250/250 [==============================] - 0s 911us/step - loss: 0.3413 - accuracy: 0.8594\n",
      "Epoch 58/200\n",
      "250/250 [==============================] - 0s 958us/step - loss: 0.3400 - accuracy: 0.8599\n",
      "Epoch 59/200\n",
      "250/250 [==============================] - 0s 920us/step - loss: 0.3404 - accuracy: 0.8635\n",
      "Epoch 60/200\n",
      "250/250 [==============================] - 0s 1ms/step - loss: 0.3395 - accuracy: 0.8616\n",
      "Epoch 61/200\n",
      "250/250 [==============================] - 0s 1ms/step - loss: 0.3392 - accuracy: 0.8624\n",
      "Epoch 62/200\n",
      "250/250 [==============================] - 0s 991us/step - loss: 0.3385 - accuracy: 0.8601\n",
      "Epoch 63/200\n",
      "250/250 [==============================] - 0s 824us/step - loss: 0.3386 - accuracy: 0.8631\n",
      "Epoch 64/200\n",
      "250/250 [==============================] - 0s 902us/step - loss: 0.3378 - accuracy: 0.8610\n",
      "Epoch 65/200\n",
      "250/250 [==============================] - 0s 864us/step - loss: 0.3375 - accuracy: 0.86250s - loss: 0.3359 - accuracy: 0.\n",
      "Epoch 66/200\n",
      "250/250 [==============================] - 0s 1ms/step - loss: 0.3371 - accuracy: 0.8612\n",
      "Epoch 67/200\n",
      "250/250 [==============================] - 0s 972us/step - loss: 0.3372 - accuracy: 0.8608\n",
      "Epoch 68/200\n",
      "250/250 [==============================] - 0s 888us/step - loss: 0.3370 - accuracy: 0.8612\n",
      "Epoch 69/200\n",
      "250/250 [==============================] - 0s 1ms/step - loss: 0.3371 - accuracy: 0.8611\n",
      "Epoch 70/200\n",
      "250/250 [==============================] - 0s 928us/step - loss: 0.3361 - accuracy: 0.8618\n",
      "Epoch 71/200\n",
      "250/250 [==============================] - 0s 913us/step - loss: 0.3358 - accuracy: 0.8622\n",
      "Epoch 72/200\n",
      "250/250 [==============================] - 0s 1ms/step - loss: 0.3359 - accuracy: 0.8610\n",
      "Epoch 73/200\n",
      "250/250 [==============================] - 0s 1ms/step - loss: 0.3361 - accuracy: 0.8619\n",
      "Epoch 74/200\n",
      "250/250 [==============================] - 0s 1ms/step - loss: 0.3353 - accuracy: 0.8627\n",
      "Epoch 75/200\n",
      "250/250 [==============================] - 0s 943us/step - loss: 0.3353 - accuracy: 0.8622\n",
      "Epoch 76/200\n",
      "250/250 [==============================] - 0s 1ms/step - loss: 0.3351 - accuracy: 0.8619\n",
      "Epoch 77/200\n",
      "250/250 [==============================] - 0s 992us/step - loss: 0.3348 - accuracy: 0.8635\n",
      "Epoch 78/200\n",
      "250/250 [==============================] - 0s 871us/step - loss: 0.3343 - accuracy: 0.8626\n",
      "Epoch 79/200\n",
      "250/250 [==============================] - 0s 867us/step - loss: 0.3345 - accuracy: 0.8633\n",
      "Epoch 80/200\n",
      "250/250 [==============================] - 0s 936us/step - loss: 0.3342 - accuracy: 0.8633\n",
      "Epoch 81/200\n",
      "250/250 [==============================] - 0s 940us/step - loss: 0.3345 - accuracy: 0.8619\n",
      "Epoch 82/200\n",
      "250/250 [==============================] - 0s 840us/step - loss: 0.3343 - accuracy: 0.8627\n",
      "Epoch 83/200\n",
      "250/250 [==============================] - 0s 997us/step - loss: 0.3344 - accuracy: 0.8637\n",
      "Epoch 84/200\n",
      "250/250 [==============================] - 0s 933us/step - loss: 0.3343 - accuracy: 0.8630\n",
      "Epoch 85/200\n",
      "250/250 [==============================] - 0s 1ms/step - loss: 0.3334 - accuracy: 0.8639\n",
      "Epoch 86/200\n",
      "250/250 [==============================] - 0s 1ms/step - loss: 0.3334 - accuracy: 0.8637\n",
      "Epoch 87/200\n",
      "250/250 [==============================] - 0s 963us/step - loss: 0.3330 - accuracy: 0.8622\n",
      "Epoch 88/200\n",
      "250/250 [==============================] - 0s 952us/step - loss: 0.3335 - accuracy: 0.8630\n",
      "Epoch 89/200\n",
      "250/250 [==============================] - 0s 944us/step - loss: 0.3334 - accuracy: 0.8633\n",
      "Epoch 90/200\n",
      "250/250 [==============================] - 0s 1ms/step - loss: 0.3333 - accuracy: 0.8611\n",
      "Epoch 91/200\n",
      "250/250 [==============================] - 0s 912us/step - loss: 0.3326 - accuracy: 0.8634\n",
      "Epoch 92/200\n",
      "250/250 [==============================] - 0s 976us/step - loss: 0.3324 - accuracy: 0.8636\n",
      "Epoch 93/200\n",
      "250/250 [==============================] - 0s 952us/step - loss: 0.3328 - accuracy: 0.8637\n",
      "Epoch 94/200\n",
      "250/250 [==============================] - 0s 1ms/step - loss: 0.3324 - accuracy: 0.8626\n",
      "Epoch 95/200\n",
      "250/250 [==============================] - 0s 929us/step - loss: 0.3324 - accuracy: 0.8626\n",
      "Epoch 96/200\n",
      "250/250 [==============================] - 0s 957us/step - loss: 0.3324 - accuracy: 0.8631\n",
      "Epoch 97/200\n",
      "250/250 [==============================] - 0s 1ms/step - loss: 0.3324 - accuracy: 0.8643\n",
      "Epoch 98/200\n",
      "250/250 [==============================] - 0s 889us/step - loss: 0.3325 - accuracy: 0.8630\n",
      "Epoch 99/200\n",
      "250/250 [==============================] - 0s 1ms/step - loss: 0.3323 - accuracy: 0.8641\n",
      "Epoch 100/200\n",
      "250/250 [==============================] - 0s 1ms/step - loss: 0.3322 - accuracy: 0.8634\n",
      "Epoch 101/200\n",
      "250/250 [==============================] - 0s 999us/step - loss: 0.3323 - accuracy: 0.8640\n",
      "Epoch 102/200\n",
      "250/250 [==============================] - 0s 985us/step - loss: 0.3322 - accuracy: 0.8621\n",
      "Epoch 103/200\n",
      "250/250 [==============================] - 0s 1ms/step - loss: 0.3314 - accuracy: 0.8633\n",
      "Epoch 104/200\n",
      "250/250 [==============================] - 0s 919us/step - loss: 0.3324 - accuracy: 0.8645\n",
      "Epoch 105/200\n",
      "250/250 [==============================] - 0s 1ms/step - loss: 0.3315 - accuracy: 0.8625\n",
      "Epoch 106/200\n",
      "250/250 [==============================] - 0s 983us/step - loss: 0.3319 - accuracy: 0.8644\n",
      "Epoch 107/200\n",
      "250/250 [==============================] - 0s 936us/step - loss: 0.3316 - accuracy: 0.8633\n",
      "Epoch 108/200\n",
      "250/250 [==============================] - 0s 1ms/step - loss: 0.3318 - accuracy: 0.8650\n",
      "Epoch 109/200\n",
      "250/250 [==============================] - 0s 1ms/step - loss: 0.3315 - accuracy: 0.8639\n",
      "Epoch 110/200\n",
      "250/250 [==============================] - 0s 1ms/step - loss: 0.3315 - accuracy: 0.8648\n",
      "Epoch 111/200\n",
      "250/250 [==============================] - 0s 1ms/step - loss: 0.3316 - accuracy: 0.8633\n",
      "Epoch 112/200\n",
      "250/250 [==============================] - 0s 1ms/step - loss: 0.3316 - accuracy: 0.8655\n",
      "Epoch 113/200\n",
      "250/250 [==============================] - 0s 1ms/step - loss: 0.3311 - accuracy: 0.8643\n",
      "Epoch 114/200\n",
      "250/250 [==============================] - 0s 1ms/step - loss: 0.3320 - accuracy: 0.8654\n",
      "Epoch 115/200\n",
      "250/250 [==============================] - 0s 1ms/step - loss: 0.3314 - accuracy: 0.8655\n",
      "Epoch 116/200\n",
      "250/250 [==============================] - 0s 872us/step - loss: 0.3314 - accuracy: 0.8648\n",
      "Epoch 117/200\n",
      "250/250 [==============================] - 0s 965us/step - loss: 0.3322 - accuracy: 0.8649\n",
      "Epoch 118/200\n",
      "250/250 [==============================] - 0s 1ms/step - loss: 0.3317 - accuracy: 0.8644\n",
      "Epoch 119/200\n",
      "250/250 [==============================] - 0s 1ms/step - loss: 0.3312 - accuracy: 0.8646\n",
      "Epoch 120/200\n",
      "250/250 [==============================] - 0s 1ms/step - loss: 0.3316 - accuracy: 0.8633\n",
      "Epoch 121/200\n",
      "250/250 [==============================] - ETA: 0s - loss: 0.3301 - accuracy: 0.86 - 0s 1ms/step - loss: 0.3314 - accuracy: 0.8631\n",
      "Epoch 122/200\n",
      "250/250 [==============================] - 0s 1ms/step - loss: 0.3310 - accuracy: 0.8639\n",
      "Epoch 123/200\n",
      "250/250 [==============================] - 0s 1ms/step - loss: 0.3315 - accuracy: 0.8637\n",
      "Epoch 124/200\n",
      "250/250 [==============================] - 0s 873us/step - loss: 0.3311 - accuracy: 0.8626\n",
      "Epoch 125/200\n",
      "250/250 [==============================] - 0s 864us/step - loss: 0.3309 - accuracy: 0.8637\n",
      "Epoch 126/200\n",
      "250/250 [==============================] - 0s 921us/step - loss: 0.3311 - accuracy: 0.8646\n",
      "Epoch 127/200\n",
      "250/250 [==============================] - 0s 865us/step - loss: 0.3311 - accuracy: 0.8634\n",
      "Epoch 128/200\n",
      "250/250 [==============================] - 0s 1ms/step - loss: 0.3304 - accuracy: 0.8658\n",
      "Epoch 129/200\n",
      "250/250 [==============================] - 0s 1ms/step - loss: 0.3305 - accuracy: 0.8673\n",
      "Epoch 130/200\n",
      "250/250 [==============================] - 0s 1ms/step - loss: 0.3306 - accuracy: 0.8651\n",
      "Epoch 131/200\n",
      "250/250 [==============================] - 0s 1ms/step - loss: 0.3312 - accuracy: 0.8649\n",
      "Epoch 132/200\n",
      "250/250 [==============================] - 0s 1ms/step - loss: 0.3305 - accuracy: 0.8650\n",
      "Epoch 133/200\n",
      "250/250 [==============================] - 0s 1ms/step - loss: 0.3310 - accuracy: 0.8654\n",
      "Epoch 134/200\n",
      "250/250 [==============================] - 0s 1ms/step - loss: 0.3305 - accuracy: 0.8664\n",
      "Epoch 135/200\n",
      "250/250 [==============================] - 0s 1ms/step - loss: 0.3305 - accuracy: 0.8645\n",
      "Epoch 136/200\n",
      "250/250 [==============================] - 0s 946us/step - loss: 0.3304 - accuracy: 0.8643\n",
      "Epoch 137/200\n",
      "250/250 [==============================] - 0s 919us/step - loss: 0.3307 - accuracy: 0.8644\n",
      "Epoch 138/200\n",
      "250/250 [==============================] - 0s 1ms/step - loss: 0.3305 - accuracy: 0.8673\n",
      "Epoch 139/200\n",
      "250/250 [==============================] - 0s 1ms/step - loss: 0.3304 - accuracy: 0.8656\n",
      "Epoch 140/200\n",
      "250/250 [==============================] - 0s 1ms/step - loss: 0.3308 - accuracy: 0.8654\n",
      "Epoch 141/200\n",
      "250/250 [==============================] - 0s 1ms/step - loss: 0.3303 - accuracy: 0.8650\n",
      "Epoch 142/200\n",
      "250/250 [==============================] - 0s 1ms/step - loss: 0.3307 - accuracy: 0.8651\n",
      "Epoch 143/200\n",
      "250/250 [==============================] - 0s 953us/step - loss: 0.3306 - accuracy: 0.8652\n",
      "Epoch 144/200\n",
      "250/250 [==============================] - 0s 846us/step - loss: 0.3302 - accuracy: 0.8643\n",
      "Epoch 145/200\n",
      "250/250 [==============================] - 0s 871us/step - loss: 0.3300 - accuracy: 0.8655\n",
      "Epoch 146/200\n",
      "250/250 [==============================] - 0s 896us/step - loss: 0.3308 - accuracy: 0.8655\n",
      "Epoch 147/200\n",
      "250/250 [==============================] - 0s 836us/step - loss: 0.3302 - accuracy: 0.8651\n",
      "Epoch 148/200\n",
      "250/250 [==============================] - 0s 922us/step - loss: 0.3304 - accuracy: 0.8631\n",
      "Epoch 149/200\n",
      "250/250 [==============================] - 0s 946us/step - loss: 0.3302 - accuracy: 0.8659\n",
      "Epoch 150/200\n",
      "250/250 [==============================] - 0s 907us/step - loss: 0.3296 - accuracy: 0.8645\n",
      "Epoch 151/200\n",
      "250/250 [==============================] - 0s 841us/step - loss: 0.3304 - accuracy: 0.8630\n",
      "Epoch 152/200\n",
      "250/250 [==============================] - 0s 857us/step - loss: 0.3307 - accuracy: 0.8641\n",
      "Epoch 153/200\n",
      "250/250 [==============================] - 0s 1ms/step - loss: 0.3296 - accuracy: 0.8661\n",
      "Epoch 154/200\n",
      "250/250 [==============================] - 0s 872us/step - loss: 0.3300 - accuracy: 0.8648\n",
      "Epoch 155/200\n",
      "250/250 [==============================] - 0s 850us/step - loss: 0.3297 - accuracy: 0.8659\n",
      "Epoch 156/200\n",
      "250/250 [==============================] - 0s 886us/step - loss: 0.3300 - accuracy: 0.8643\n",
      "Epoch 157/200\n",
      "250/250 [==============================] - 0s 855us/step - loss: 0.3304 - accuracy: 0.8655\n",
      "Epoch 158/200\n",
      "250/250 [==============================] - 0s 888us/step - loss: 0.3300 - accuracy: 0.8644\n",
      "Epoch 159/200\n",
      "250/250 [==============================] - 0s 1ms/step - loss: 0.3301 - accuracy: 0.8656\n",
      "Epoch 160/200\n",
      "250/250 [==============================] - 0s 2ms/step - loss: 0.3299 - accuracy: 0.8637\n",
      "Epoch 161/200\n",
      "250/250 [==============================] - 0s 2ms/step - loss: 0.3297 - accuracy: 0.8661\n",
      "Epoch 162/200\n",
      "250/250 [==============================] - 0s 936us/step - loss: 0.3300 - accuracy: 0.8654\n",
      "Epoch 163/200\n",
      "250/250 [==============================] - 0s 915us/step - loss: 0.3297 - accuracy: 0.8662\n",
      "Epoch 164/200\n",
      "250/250 [==============================] - 0s 928us/step - loss: 0.3297 - accuracy: 0.8664\n",
      "Epoch 165/200\n",
      "250/250 [==============================] - 0s 942us/step - loss: 0.3298 - accuracy: 0.8660\n",
      "Epoch 166/200\n",
      "250/250 [==============================] - 0s 1ms/step - loss: 0.3292 - accuracy: 0.8654\n",
      "Epoch 167/200\n",
      "250/250 [==============================] - 0s 941us/step - loss: 0.3302 - accuracy: 0.8641\n",
      "Epoch 168/200\n",
      "250/250 [==============================] - 0s 916us/step - loss: 0.3296 - accuracy: 0.8655\n",
      "Epoch 169/200\n",
      "250/250 [==============================] - 0s 1ms/step - loss: 0.3299 - accuracy: 0.8651\n",
      "Epoch 170/200\n",
      "250/250 [==============================] - 0s 938us/step - loss: 0.3296 - accuracy: 0.8656\n",
      "Epoch 171/200\n",
      "250/250 [==============================] - 0s 857us/step - loss: 0.3294 - accuracy: 0.8662\n",
      "Epoch 172/200\n",
      "250/250 [==============================] - 0s 920us/step - loss: 0.3303 - accuracy: 0.8645\n",
      "Epoch 173/200\n",
      "250/250 [==============================] - 0s 981us/step - loss: 0.3290 - accuracy: 0.8662\n",
      "Epoch 174/200\n",
      "250/250 [==============================] - 0s 940us/step - loss: 0.3298 - accuracy: 0.8669\n",
      "Epoch 175/200\n",
      "250/250 [==============================] - 0s 804us/step - loss: 0.3291 - accuracy: 0.8666\n",
      "Epoch 176/200\n",
      "250/250 [==============================] - 0s 867us/step - loss: 0.3298 - accuracy: 0.8668\n",
      "Epoch 177/200\n",
      "250/250 [==============================] - 0s 971us/step - loss: 0.3296 - accuracy: 0.8650\n",
      "Epoch 178/200\n",
      "250/250 [==============================] - 0s 940us/step - loss: 0.3295 - accuracy: 0.8646\n",
      "Epoch 179/200\n",
      "250/250 [==============================] - 0s 1ms/step - loss: 0.3296 - accuracy: 0.8655\n",
      "Epoch 180/200\n",
      "250/250 [==============================] - 0s 980us/step - loss: 0.3292 - accuracy: 0.8665\n",
      "Epoch 181/200\n",
      "250/250 [==============================] - 0s 1ms/step - loss: 0.3296 - accuracy: 0.8649\n",
      "Epoch 182/200\n",
      "250/250 [==============================] - 0s 941us/step - loss: 0.3299 - accuracy: 0.8646\n",
      "Epoch 183/200\n",
      "250/250 [==============================] - 0s 919us/step - loss: 0.3294 - accuracy: 0.8644\n",
      "Epoch 184/200\n",
      "250/250 [==============================] - 0s 828us/step - loss: 0.3293 - accuracy: 0.8656\n",
      "Epoch 185/200\n",
      "250/250 [==============================] - 0s 1ms/step - loss: 0.3294 - accuracy: 0.8669\n",
      "Epoch 186/200\n",
      "250/250 [==============================] - 0s 972us/step - loss: 0.3294 - accuracy: 0.8645\n",
      "Epoch 187/200\n",
      "250/250 [==============================] - 0s 917us/step - loss: 0.3289 - accuracy: 0.8644\n",
      "Epoch 188/200\n",
      "250/250 [==============================] - 0s 1ms/step - loss: 0.3287 - accuracy: 0.8661\n",
      "Epoch 189/200\n",
      "250/250 [==============================] - 0s 1ms/step - loss: 0.3291 - accuracy: 0.8661\n",
      "Epoch 190/200\n",
      "250/250 [==============================] - 0s 976us/step - loss: 0.3295 - accuracy: 0.8639\n",
      "Epoch 191/200\n",
      "250/250 [==============================] - 0s 960us/step - loss: 0.3285 - accuracy: 0.8666\n",
      "Epoch 192/200\n",
      "250/250 [==============================] - 0s 1ms/step - loss: 0.3289 - accuracy: 0.8666\n",
      "Epoch 193/200\n",
      "250/250 [==============================] - 0s 1ms/step - loss: 0.3288 - accuracy: 0.8656\n",
      "Epoch 194/200\n",
      "250/250 [==============================] - 0s 927us/step - loss: 0.3287 - accuracy: 0.8671\n",
      "Epoch 195/200\n",
      "250/250 [==============================] - 0s 1000us/step - loss: 0.3289 - accuracy: 0.8646\n",
      "Epoch 196/200\n",
      "250/250 [==============================] - 0s 1ms/step - loss: 0.3292 - accuracy: 0.8671\n",
      "Epoch 197/200\n",
      "250/250 [==============================] - 0s 1ms/step - loss: 0.3289 - accuracy: 0.8662\n",
      "Epoch 198/200\n",
      "250/250 [==============================] - 0s 1ms/step - loss: 0.3289 - accuracy: 0.8660\n",
      "Epoch 199/200\n",
      "250/250 [==============================] - 0s 938us/step - loss: 0.3287 - accuracy: 0.8664\n",
      "Epoch 200/200\n",
      "250/250 [==============================] - 0s 977us/step - loss: 0.3289 - accuracy: 0.8658\n"
     ]
    },
    {
     "data": {
      "text/plain": [
       "<keras.callbacks.History at 0x22cc6fca1c0>"
      ]
     },
     "execution_count": 20,
     "metadata": {},
     "output_type": "execute_result"
    }
   ],
   "source": [
    "#training the neural network\n",
    "ann.fit(x_train,y_train,batch_size=32,epochs=200)"
   ]
  },
  {
   "cell_type": "markdown",
   "id": "6d21692d",
   "metadata": {},
   "source": [
    "# Prediction"
   ]
  },
  {
   "cell_type": "code",
   "execution_count": 22,
   "id": "43b23610",
   "metadata": {},
   "outputs": [
    {
     "name": "stdout",
     "output_type": "stream",
     "text": [
      "[[1505  190]\n",
      " [  90  215]]\n",
      "Accuracy Score:  0.86\n"
     ]
    }
   ],
   "source": [
    "#Making the confusion matrix\n",
    "from sklearn.metrics import confusion_matrix,accuracy_score\n",
    "y_pred = ann.predict(x_test)\n",
    "y_pred = (y_pred>0.5)\n",
    "cm = confusion_matrix(y_pred,y_test)\n",
    "print(cm)\n",
    "\n",
    "#finiding accuracy score\n",
    "acc = accuracy_score(y_test,y_pred)\n",
    "print(\"Accuracy Score: \",acc)"
   ]
  },
  {
   "cell_type": "markdown",
   "id": "7661c759",
   "metadata": {},
   "source": [
    "Use our ANN model to predict if the customer with the following informations will leave the bank: \n",
    "Geography: France\n",
    "\n",
    "Credit Score: 600\n",
    "\n",
    "Gender: Male\n",
    "\n",
    "Age: 40 years old\n",
    "\n",
    "Tenure: 3 years\n",
    "\n",
    "Balance: $ 60000\n",
    "\n",
    "Number of Products: 2\n",
    "\n",
    "Does this customer have a credit card? Yes\n",
    "\n",
    "Is this customer an Active Member: Yes\n",
    "\n",
    "Estimated Salary: $ 50000\n",
    "\n",
    "Solution:"
   ]
  },
  {
   "cell_type": "code",
   "execution_count": 23,
   "id": "e3a335cf",
   "metadata": {},
   "outputs": [
    {
     "name": "stdout",
     "output_type": "stream",
     "text": [
      "[[False]]\n"
     ]
    }
   ],
   "source": [
    "print(ann.predict(sc.transform([[1, 0, 0, 600, 1, 40, 3, 60000, 2, 1, 1, 50000]])) > 0.5)"
   ]
  },
  {
   "cell_type": "markdown",
   "id": "bc119b9d",
   "metadata": {},
   "source": [
    "It means person will not leave the bank."
   ]
  },
  {
   "cell_type": "code",
   "execution_count": null,
   "id": "298d0cb7",
   "metadata": {},
   "outputs": [],
   "source": []
  }
 ],
 "metadata": {
  "kernelspec": {
   "display_name": "Python 3",
   "language": "python",
   "name": "python3"
  },
  "language_info": {
   "codemirror_mode": {
    "name": "ipython",
    "version": 3
   },
   "file_extension": ".py",
   "mimetype": "text/x-python",
   "name": "python",
   "nbconvert_exporter": "python",
   "pygments_lexer": "ipython3",
   "version": "3.8.8"
  }
 },
 "nbformat": 4,
 "nbformat_minor": 5
}
